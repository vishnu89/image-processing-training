{
 "cells": [
  {
   "cell_type": "code",
   "execution_count": 1,
   "metadata": {},
   "outputs": [
    {
     "name": "stderr",
     "output_type": "stream",
     "text": [
      "/usr/local/lib/python2.7/dist-packages/IPython/html.py:14: ShimWarning: The `IPython.html` package has been deprecated since IPython 4.0. You should import from `notebook` instead. `IPython.html.widgets` has moved to `ipywidgets`.\n",
      "  \"`IPython.html.widgets` has moved to `ipywidgets`.\", ShimWarning)\n"
     ]
    }
   ],
   "source": [
    "import numpy as np\n",
    "import cv2\n",
    "import matplotlib.pyplot as plt\n",
    "from IPython.html.widgets import *\n",
    "from ipywidgets import jslink\n",
    "from IPython.display import display\n",
    "from skimage.color import rgb2gray\n",
    "from skimage import img_as_ubyte"
   ]
  },
  {
   "cell_type": "code",
   "execution_count": 2,
   "metadata": {
    "collapsed": true
   },
   "outputs": [],
   "source": [
    "def imshow(*imgs, **kw):\n",
    "    nimg = len(imgs)\n",
    "    if kw.get('col') is None:\n",
    "        col = nimg ** .5\n",
    "        col = int(col + 1 if col % 1 else col)\n",
    "    else:\n",
    "        col = kw.pop('col')\n",
    "    row = nimg / col\n",
    "    row = row + 1 if (col * row) - nimg else row\n",
    "    if row == col == 1:\n",
    "        plts = [plt.subplots(row,col,figsize=kw.pop('figsize',(10,10)))[1]]\n",
    "    else:\n",
    "        plts = plt.subplots(row,col,figsize=kw.pop('figsize',(10,10)))[1].ravel()\n",
    "    for img, ax in zip(imgs, plts):\n",
    "        if len(img)==2:\n",
    "            name, img = img\n",
    "            ax.imshow(img,**kw)\n",
    "            ax.set_title(name)\n",
    "        else:\n",
    "            ax.imshow(img,**kw)\n",
    "    plt.show()"
   ]
  },
  {
   "cell_type": "code",
   "execution_count": 3,
   "metadata": {},
   "outputs": [
    {
     "data": {
      "application/vnd.jupyter.widget-view+json": {
       "model_id": "68e2b0d1f9194ee487170ca50cf1a051"
      }
     },
     "metadata": {},
     "output_type": "display_data"
    }
   ],
   "source": [
    "def func(sample_freq, order):\n",
    "    x, y = np.mgrid[-1:1:sample_freq*1j, -1:1:sample_freq*1j]\n",
    "    z = 1 * np.exp(-2*(x**order+y**order))\n",
    "    imshow(z,cmap=None,figsize=(5,5))\n",
    "    \n",
    "interactive(func,sample_freq=(1, 120, 1), order=(2, 20, 2))"
   ]
  },
  {
   "cell_type": "code",
   "execution_count": 4,
   "metadata": {},
   "outputs": [
    {
     "data": {
      "application/vnd.jupyter.widget-view+json": {
       "model_id": "43163110cd594ae6a0c711e7bbc29021"
      }
     },
     "metadata": {},
     "output_type": "display_data"
    }
   ],
   "source": [
    "img = plt.imread(r'/home/dondana/vishnu/workspace_py/dataBase/training/lena.jpg')\n",
    "def func(down_sample):\n",
    "    imshow(('Original',img), \n",
    "           ('Spatial Quantized',img[::down_sample,::down_sample]))\n",
    "interactive(func,down_sample=(1, 50, 1))"
   ]
  },
  {
   "cell_type": "code",
   "execution_count": 5,
   "metadata": {},
   "outputs": [
    {
     "data": {
      "application/vnd.jupyter.widget-view+json": {
       "model_id": "65aff68713bd401b9654a512ace2a7b1"
      }
     },
     "metadata": {},
     "output_type": "display_data"
    }
   ],
   "source": [
    "# img1 = plt.imread(r'/home/dondana/vishnu/workspace_py/dataBase/training/sampling.jpg')\n",
    "# img1 = img_as_ubyte(rgb2gray(img1))\n",
    "\n",
    "img1 = cv2.imread(r'/home/dondana/vishnu/workspace_py/dataBase/training/sampling.jpg',0)\n",
    "\n",
    "def quantize_img(quantize_level):\n",
    "    img2 = img1.copy()\n",
    "    step = np.linspace(0, 256, quantize_level + 1).astype('u2')\n",
    "    \n",
    "    nstep = step[1:]\n",
    "    for ps, ns in zip(step, nstep):\n",
    "        img2[(ps <= img1) & (img1 <= ns)] = ps\n",
    "    img2 = img2.astype('u1')\n",
    "    imshow(('Original', img1),\n",
    "           ('Amplitude Quantized', img2), cmap='gray')\n",
    "    print step\n",
    "    \n",
    "interactive(quantize_img,quantize_level=(2, 255, 1))"
   ]
  },
  {
   "cell_type": "code",
   "execution_count": 6,
   "metadata": {},
   "outputs": [
    {
     "data": {
      "application/vnd.jupyter.widget-view+json": {
       "model_id": "3ac6d9782dce4b37ade9c555eca5e656"
      }
     },
     "metadata": {},
     "output_type": "display_data"
    }
   ],
   "source": [
    "\n",
    "# img1 = plt.imread(r'/home/dondana/vishnu/workspace_py/dataBase/training/gumby.bmp')\n",
    "# img1 = img_as_ubyte(rgb2gray(img1))\n",
    "img1 = cv2.imread(r'/home/dondana/vishnu/workspace_py/dataBase/training/gumby.bmp',0)\n",
    "\n",
    "def edge_detection(scale):\n",
    "    img2 = img1.copy()\n",
    "    img3 = img1.copy()\n",
    "    img4 = np.zeros_like(img1).copy()\n",
    "\n",
    "    img2[:-scale] = img1[scale:]\n",
    "    img2 = img1 - img2\n",
    "    img3[scale:] = img1[:-scale]\n",
    "    img3 = img1 - img3\n",
    "    img4[img2 == 255] = 255\n",
    "    img4[img3 == 255] = 255\n",
    "    imshow(('Input Image',img1), \n",
    "           ('Slide Left Top', img2),\n",
    "           ('Slide Right Bottom', img3),\n",
    "           ('Output Image', img4),\n",
    "           cmap='binary')\n",
    "interactive(edge_detection,scale=(1, 25, 1))"
   ]
  },
  {
   "cell_type": "code",
   "execution_count": 7,
   "metadata": {
    "collapsed": true
   },
   "outputs": [],
   "source": [
    "def corr2(a, k):\n",
    "    a = a.astype('i8')\n",
    "    k = k.astype('i8')\n",
    "    out = np.zeros_like(a)\n",
    "    rows, cols = a.shape\n",
    "    krows, kcols = k.shape\n",
    "    print rows, cols, krows, kcols\n",
    "    # find center position of kernel (half of kernel size)\n",
    "    kxcenter = kcols / 2\n",
    "    kycenter = krows / 2\n",
    "    for row in range(rows):\n",
    "        for col in range(cols):\n",
    "            for krow in range(krows):\n",
    "                flip_row = krows - 1 - krow\n",
    "                for kcol in range(kcols):\n",
    "                    flip_col = kcols - 1 - kcol\n",
    "                    irow = row + (krow - kycenter)\n",
    "                    icol = col + (kcol - kxcenter)\n",
    "                    if 0 <= irow < rows and 0 <= icol < cols:\n",
    "                        out[row][col] += a[irow][icol] * k[flip_row][flip_col]\n",
    "    return out\n",
    "\n",
    "def corr1():\n",
    "    # The convolution operation is applicable for linear time invariant (LTI) systems only\n",
    "    x = img1.astype('u8') #np.array([-1,-1,-1,1,1,1])\n",
    "    y = img2.astype('u8') #np.array([1,1,1,1,1,1])\n",
    "    sxx = x*x.T - x.sum()*x.sum()/x.size\n",
    "    syy = y*y.T - y.sum()*y.sum()/y.size\n",
    "    sxy = x*y.T - x.sum()*y.sum()/x.size\n",
    "    rho = sxy / (sxx*syy)**.5\n",
    "    print sxx\n",
    "    print syy\n",
    "    print sxy\n",
    "    print rho"
   ]
  },
  {
   "cell_type": "code",
   "execution_count": 8,
   "metadata": {},
   "outputs": [
    {
     "name": "stdout",
     "output_type": "stream",
     "text": [
      "[0 0 0 1 0 0 0]\n",
      "[0 0 0 0 0 0 0]\n"
     ]
    }
   ],
   "source": [
    "x = np.array([1, 1, 1, 1, 0, 0, 0, 0])\n",
    "edge = x[:-1] - x[1:]\n",
    "edge[edge <= 0] = 0  # quantization\n",
    "edge[edge > 0] = 1  # quantization\n",
    "print edge\n",
    "x = np.array([1, 1, 1, 1, 0, 0, 0, 0])\n",
    "edge = x[1:] - x[:-1]\n",
    "edge[edge <= 0] = 0 # quantization\n",
    "edge[edge > 0] = 1 # quantization\n",
    "print edge"
   ]
  },
  {
   "cell_type": "code",
   "execution_count": 9,
   "metadata": {},
   "outputs": [
    {
     "data": {
      "image/png": "[encoded data removed]",
      "text/plain": [
       "<matplotlib.figure.Figure at 0x7fde69c52050>"
      ]
     },
     "metadata": {},
     "output_type": "display_data"
    }
   ],
   "source": [
    "pix = 1\n",
    "min,max = 0,255\n",
    "chess_board = np.ones([8, 8, pix, pix], 'i8')*min\n",
    "mark = np.ones([pix, pix], 'i8') * max\n",
    "chess_board[::2,::2] = mark\n",
    "chess_board[1::2,1::2] = mark\n",
    "chess_board = np.hstack(np.hstack(chess_board))\n",
    "imshow(chess_board, cmap='gray')"
   ]
  },
  {
   "cell_type": "code",
   "execution_count": 18,
   "metadata": {},
   "outputs": [
    {
     "data": {
      "application/vnd.jupyter.widget-view+json": {
       "model_id": "3dd48d6936ce4f34bc1111f8ac1a3a97"
      }
     },
     "metadata": {},
     "output_type": "display_data"
    }
   ],
   "source": [
    "img = cv2.imread(r'/home/dondana/vishnu/workspace_py/dataBase/training/lena.jpg',0)\n",
    "\n",
    "def fft(img, inverse=False):\n",
    "    if not inverse:\n",
    "        f = np.fft.fft2(img)\n",
    "        fshift = np.fft.fftshift(f)\n",
    "        return fshift\n",
    "    else:\n",
    "        f_ishift = np.fft.ifftshift(img)\n",
    "        img_back = np.fft.ifft2(f_ishift)\n",
    "        img_back = np.abs(img_back)\n",
    "        return img_back\n",
    "\n",
    "\n",
    "def hpf(scale):\n",
    "    fft_img = fft(img)\n",
    "    magnitude_spectrum = 20 * np.log(np.abs(fft_img))\n",
    "    hpf_fft_img = fft_img.copy()\n",
    "    rows, cols = img.shape\n",
    "    crow, ccol = rows / 2, cols / 2\n",
    "    hpf_fft_img[crow - scale:crow + scale, ccol - scale:ccol + scale] = 0\n",
    "    hpf_magnitude_spectrum = 20 * np.log(np.abs(hpf_fft_img))\n",
    "    hpf_img = fft(hpf_fft_img, inverse=True)\n",
    "\n",
    "    imshow(\n",
    "            ('Input Image',img),\n",
    "            ('Magnitude Spectrum',magnitude_spectrum),\n",
    "            ('HPF Magnitude Spectrum',hpf_magnitude_spectrum),\n",
    "            ('Image after HPF',hpf_img), cmap='gray',figsize=(3,3)\n",
    "    )\n",
    "    imshow(('Image after HPF',hpf_img), cmap='jet',figsize=(3,3))\n",
    "interactive(hpf,scale=(1, 25, 1))"
   ]
  },
  {
   "cell_type": "code",
   "execution_count": null,
   "metadata": {
    "collapsed": true
   },
   "outputs": [],
   "source": []
  }
 ],
 "metadata": {
  "kernelspec": {
   "display_name": "Python 2",
   "language": "python",
   "name": "python2"
  },
  "language_info": {
   "codemirror_mode": {
    "name": "ipython",
    "version": 2
   },
   "file_extension": ".py",
   "mimetype": "text/x-python",
   "name": "python",
   "nbconvert_exporter": "python",
   "pygments_lexer": "ipython2",
   "version": "2.7.13"
  }
 },
 "nbformat": 4,
 "nbformat_minor": 1
}
